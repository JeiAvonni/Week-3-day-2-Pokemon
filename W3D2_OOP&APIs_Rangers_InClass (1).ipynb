{
 "cells": [
  {
   "cell_type": "markdown",
   "metadata": {},
   "source": [
    "# Object Oriented Programming 2 - examples and APIs\n"
   ]
  },
  {
   "cell_type": "markdown",
   "metadata": {},
   "source": [
    "## Tasks Today:\n",
    "\n",
    "   \n",
    "\n",
    "1) <b>Restful APIs & HTTP Requests </b> <br>\n",
    " &nbsp;&nbsp;&nbsp;&nbsp; a) What are APIs <br>\n",
    "  &nbsp;&nbsp;&nbsp;&nbsp; b) What does HTTP stand for, request methods, status codes <br>\n",
    " &nbsp;&nbsp;&nbsp;&nbsp; c) Making API requests and retrieving/jsonifying data <br>\n",
    " &nbsp;&nbsp;&nbsp;&nbsp; d) Using APIs requests within functions & classes <br>\n",
    " 2) <b>Working with the Pokemon API </b> <br>\n",
    " &nbsp;&nbsp;&nbsp;&nbsp; a) Making Requests to the Pokemon API<br>\n",
    "  &nbsp;&nbsp;&nbsp;&nbsp; b) Creating a function to make API Requests <br>\n",
    " &nbsp;&nbsp;&nbsp;&nbsp; c) Creating a Pokemon class and instantiating Pokemon objects<br>\n",
    " &nbsp;&nbsp;&nbsp;&nbsp; d) Create an Evolver class that inherits from Pokemon class <br>\n",
    " "
   ]
  },
  {
   "cell_type": "markdown",
   "metadata": {},
   "source": [
    "# working with APis"
   ]
  },
  {
   "cell_type": "markdown",
   "metadata": {},
   "source": [
    "<p> What exactly is an API? <br> <br>\n",
    "API is the acronym for Application Programming Interface, which is a software intermediary that allows two applications to talk to each other. Each time you use an app like Facebook, send an instant message, or check the weather on your phone, you're using an API. </p>"
   ]
  },
  {
   "cell_type": "markdown",
   "metadata": {},
   "source": [
    "### The Poke API  allows you to retreive a pokemon's information from PokeAPI https://pokeapi.co/\n",
    "\n"
   ]
  },
  {
   "cell_type": "code",
   "execution_count": 4,
   "metadata": {},
   "outputs": [
    {
     "name": "stdout",
     "output_type": "stream",
     "text": [
      "dict_keys(['abilities', 'base_experience', 'forms', 'game_indices', 'height', 'held_items', 'id', 'is_default', 'location_area_encounters', 'moves', 'name', 'order', 'past_abilities', 'past_types', 'species', 'sprites', 'stats', 'types', 'weight'])\n",
      "charmander\n",
      "85\n",
      "blaze\n",
      "fire\n",
      "blaze\n"
     ]
    }
   ],
   "source": [
    "# making an API call\n",
    "import requests\n",
    "\n",
    "r = requests.get(\"https://pokeapi.co/api/v2/pokemon/charmander\")\n",
    "if r.status_code == 200:\n",
    "    data = r.json()\n",
    "print(data.keys())\n",
    "# key we're worlig with are:\n",
    "#  abilities, name, type, weight\n",
    "\n",
    "\n",
    "\n",
    "poke_dict = {\n",
    "    'abilities': [\n",
    "        {\n",
    "            'ability': {\n",
    "            'name': \"blaze\",\n",
    "            'url': \"https://pokeapi.co/api/v2/ability/66/\"\n",
    "        }\n",
    "        },\n",
    "         {\n",
    "             'ability': {\n",
    "            'name': \"solar-power\",\n",
    "            'url': \"https://pokeapi.co/api/v2/ability/94/\"\n",
    "             }\n",
    "        }      \n",
    "    ],\n",
    "    'name': 'charmander',\n",
    "    'weight': 85,\n",
    "    'types': [\n",
    "        {\n",
    "            'type': {\n",
    "                'name': 'fire',\n",
    "                'url': 'https://pokeapi.co/api/v2/type/10/'\n",
    "            }\n",
    "        }\n",
    "    ]\n",
    "        \n",
    "    \n",
    "}\n",
    "\n",
    "print(poke_dict['name'])\n",
    "print(poke_dict['weight'])\n",
    "print(poke_dict['abilities'][0]['ability']['name'])\n",
    "print(poke_dict['types'][0]['type']['name'])\n",
    "# abilities[0].ability\n",
    "print(data['abilities'][0]['ability']['name'])"
   ]
  },
  {
   "cell_type": "markdown",
   "metadata": {},
   "source": [
    "### Display a Pokemon's name, weight, abilities, and types"
   ]
  },
  {
   "cell_type": "code",
   "execution_count": 16,
   "metadata": {},
   "outputs": [
    {
     "name": "stdout",
     "output_type": "stream",
     "text": [
      "charmander\n"
     ]
    }
   ],
   "source": [
    "r = requests.get(\"https://pokeapi.co/api/v2/pokemon/charmander\")\n",
    "if r.status_code == 200:\n",
    "    data = r.json()\n",
    "# print(data.keys())\n",
    "\n",
    "# get the pokeman name\n",
    "name = data['name'] #data is now our dictionary with all pokeman information\n",
    "print(name)"
   ]
  },
  {
   "cell_type": "code",
   "execution_count": 19,
   "metadata": {},
   "outputs": [
    {
     "name": "stdout",
     "output_type": "stream",
     "text": [
      "['fire']\n"
     ]
    }
   ],
   "source": [
    "# get types\n",
    "types = [type_['type']['name'] for type_ in data['types']]\n",
    "print(types)"
   ]
  },
  {
   "cell_type": "code",
   "execution_count": 20,
   "metadata": {},
   "outputs": [
    {
     "name": "stdout",
     "output_type": "stream",
     "text": [
      "85\n"
     ]
    }
   ],
   "source": [
    "#  get pokeman weight\n",
    "weight = data['weight']\n",
    "print(weight)"
   ]
  },
  {
   "cell_type": "code",
   "execution_count": 35,
   "metadata": {},
   "outputs": [
    {
     "name": "stdout",
     "output_type": "stream",
     "text": [
      "[{'ability': {'name': 'blaze', 'url': 'https://pokeapi.co/api/v2/ability/66/'}, 'is_hidden': False, 'slot': 1}, {'ability': {'name': 'solar-power', 'url': 'https://pokeapi.co/api/v2/ability/94/'}, 'is_hidden': True, 'slot': 3}]\n",
      "['blaze', 'solar-power']\n"
     ]
    }
   ],
   "source": [
    "#  get pokeman abilities\n",
    "print(data['abilities'])\n",
    "\n",
    "abilities = [pokebility['ability']['name'] for pokebility in data['abilities']]\n",
    "\n",
    "print(abilities)"
   ]
  },
  {
   "cell_type": "markdown",
   "metadata": {},
   "source": [
    "#### Create a function to Pull in your own Pokemon's data "
   ]
  },
  {
   "cell_type": "code",
   "execution_count": 46,
   "metadata": {},
   "outputs": [],
   "source": [
    "def poke_api_call(pokeman):\n",
    "    r = requests.get(f\"https://pokeapi.co/api/v2/pokemon/{pokeman}\")\n",
    "    print(r.status_code)\n",
    "    if r.status_code == 200:\n",
    "        data = r.json()\n",
    "\n",
    "        \n",
    "        \n",
    "        name = data['name']\n",
    "        types = [type_['type']['name'] for type_ in data['types']]\n",
    "        abilities = [pokebility['ability']['name'] for pokebility in data ['abilities']]\n",
    "\n",
    "        poke = {\n",
    "            \"name\": name,\n",
    "            \"types\": types,\n",
    "            \"abilities\": abilities,\n",
    "            \"weight\": weight\n",
    "        }\n",
    "\n",
    "        return poke"
   ]
  },
  {
   "cell_type": "raw",
   "metadata": {},
   "source": [
    "print(poke_api_call(\"squirtle\"))"
   ]
  },
  {
   "cell_type": "markdown",
   "metadata": {},
   "source": [
    "Choose your pokemon"
   ]
  },
  {
   "cell_type": "code",
   "execution_count": 47,
   "metadata": {},
   "outputs": [],
   "source": [
    "def poke_api_call(pokeman):\n",
    "    r = requests.get(f\"https://pokeapi.co/api/v2/pokemon/{pokeman}\")\n",
    "    print(r.status_code)\n",
    "    if r.status_code == 200:\n",
    "        data = r.json()\n",
    "\n",
    "        \n",
    "        \n",
    "        name = data['name']\n",
    "        types = [type_['type']['name'] for type_ in data['types']]\n",
    "        abilities = [pokebility['ability']['name'] for pokebility in data ['abilities']]\n",
    "\n",
    "        poke = {\n",
    "            \"name\": name,\n",
    "            \"types\": types,\n",
    "            \"abilities\": abilities,\n",
    "            \"weight\": weight\n",
    "        }\n",
    "\n",
    "        return poke\n"
   ]
  },
  {
   "cell_type": "markdown",
   "metadata": {},
   "source": [
    "#### Use your function to create a dictionary of your favorite 6 pokemon"
   ]
  },
  {
   "cell_type": "code",
   "execution_count": 44,
   "metadata": {},
   "outputs": [
    {
     "name": "stdout",
     "output_type": "stream",
     "text": [
      "200\n",
      "200\n",
      "200\n",
      "200\n",
      "200\n",
      "200\n",
      "{'Heracross': None, 'Vaporeon': None, 'Flygon': None, 'Charizard': None, 'Pidgeot': None, 'Crobat': None}\n"
     ]
    }
   ],
   "source": [
    "# Place all 6 of your pokemon on the object below, each pokemon should have at least as much info as Pikachu did.\n",
    "party = ['heracross', 'vaporeon', 'flygon', 'charizard', 'pidgeot', 'crobat']\n",
    "my_six_pokemon = {}\n",
    "for pokemon in party:\n",
    "    poke_stats = poke_api_call(pokemon)\n",
    "    my_six_pokemon[pokemon.title()] = poke_stats\n",
    "\n",
    "print(my_six_pokemon)"
   ]
  },
  {
   "cell_type": "markdown",
   "metadata": {},
   "source": [
    "## Lets create a class called 'Pokemon' and create our pokemon as instances"
   ]
  },
  {
   "cell_type": "code",
   "execution_count": 12,
   "metadata": {},
   "outputs": [],
   "source": [
    "import requests\n",
    "class Pokemon:\n",
    "    def __init__(self, name):\n",
    "        self.name = name\n",
    "        self.types = []\n",
    "        self.abilities = []\n",
    "        self.weight = None\n",
    "        self.pokeman = None\n",
    "        self.poke_api_call()\n",
    "        self.build_pokeman()\n",
    "       \n",
    "\n",
    "\n",
    "    def poke_api_call(self):\n",
    "        r = requests.git(f\"https://pokeapi.co/api/v2/pokemon/{self.name.lower()}\")\n",
    "        if r.status_code == 200:\n",
    "            self.pokemon = r.json()\n",
    "        else:\n",
    "            print(f\"Please check pokemon spelling and try again: {r.status_code}\")\n",
    "\n",
    "    def build_pokemen(self):\n",
    "    # self.name = pokemon[\"name\"]\n",
    "        self.types = [type_[\"type\"][\"name\"] for type_ in self.pokemon[\"types\"]]\n",
    "        self.weight = pokemon[\"weight\"]\n",
    "        self.abilities = [pokebility[\"ability\"][\"name\"] for pokebility in pokemon[\"abilities\"]]\n",
    "        print(f\"{self.name}'s data has been updated\")\n",
    "\n",
    "    def __repr__(self): #string representation of our object, if not provided we get the objects location in memory instead\n",
    "        return f\"You caught a {self.name}\""
   ]
  },
  {
   "cell_type": "markdown",
   "metadata": {},
   "source": [
    "### Let's Catch some Pokemon"
   ]
  },
  {
   "cell_type": "code",
   "execution_count": 1,
   "metadata": {
    "scrolled": true
   },
   "outputs": [
    {
     "ename": "NameError",
     "evalue": "name 'Pokemon' is not defined",
     "output_type": "error",
     "traceback": [
      "\u001b[1;31m---------------------------------------------------------------------------\u001b[0m",
      "\u001b[1;31mNameError\u001b[0m                                 Traceback (most recent call last)",
      "Cell \u001b[1;32mIn[1], line 1\u001b[0m\n\u001b[1;32m----> 1\u001b[0m charmander \u001b[38;5;241m=\u001b[39m \u001b[43mPokemon\u001b[49m(\u001b[38;5;124m'\u001b[39m\u001b[38;5;124mcharmander\u001b[39m\u001b[38;5;124m'\u001b[39m)\n\u001b[0;32m      2\u001b[0m \u001b[38;5;28mprint\u001b[39m(charmander\u001b[38;5;241m.\u001b[39m\u001b[38;5;18m__dict__\u001b[39m)\n\u001b[0;32m      3\u001b[0m \u001b[38;5;28mprint\u001b[39m(charmander)\n",
      "\u001b[1;31mNameError\u001b[0m: name 'Pokemon' is not defined"
     ]
    }
   ],
   "source": [
    "charmander = Pokemon('charmander')\n",
    "print(charmander.__dict__)\n",
    "print(charmander)\n",
    "print(charmander.weight)"
   ]
  },
  {
   "cell_type": "code",
   "execution_count": 66,
   "metadata": {},
   "outputs": [
    {
     "ename": "NameError",
     "evalue": "name 'Pokemon' is not defined",
     "output_type": "error",
     "traceback": [
      "\u001b[1;31m---------------------------------------------------------------------------\u001b[0m",
      "\u001b[1;31mNameError\u001b[0m                                 Traceback (most recent call last)",
      "Cell \u001b[1;32mIn[66], line 4\u001b[0m\n\u001b[0;32m      2\u001b[0m pokedex \u001b[38;5;241m=\u001b[39m {}\n\u001b[0;32m      3\u001b[0m \u001b[38;5;28;01mfor\u001b[39;00m name \u001b[38;5;129;01min\u001b[39;00m party:\n\u001b[1;32m----> 4\u001b[0m     new \u001b[38;5;241m=\u001b[39m \u001b[43mPokemon\u001b[49m(name)\n\u001b[0;32m      5\u001b[0m     pokedex[name\u001b[38;5;241m.\u001b[39mtitle()] \u001b[38;5;241m=\u001b[39m new\u001b[38;5;241m.\u001b[39m\u001b[38;5;18m__dict__\u001b[39m\n\u001b[0;32m      6\u001b[0m \u001b[38;5;28mprint\u001b[39m(pokedex)\n",
      "\u001b[1;31mNameError\u001b[0m: name 'Pokemon' is not defined"
     ]
    }
   ],
   "source": [
    "party = ['heracross', 'vaporeon', 'flygon', 'charizard', 'pidgeot', 'crobat']\n",
    "pokedex = {}\n",
    "for name in party:\n",
    "    new = Pokemon(name)\n",
    "    pokedex[name.title()] = new.__dict__\n",
    "print(pokedex)"
   ]
  },
  {
   "cell_type": "markdown",
   "metadata": {},
   "source": [
    "## Exercise 1:"
   ]
  },
  {
   "cell_type": "markdown",
   "metadata": {},
   "source": [
    "### Create a Method prints an image of your pokemon\n",
    "\n",
    "<p>HINT: You may need another attribute as well to store your image url within. </p>"
   ]
  },
  {
   "cell_type": "code",
   "execution_count": null,
   "metadata": {},
   "outputs": [],
   "source": [
    "# Display an image in Jupyter notebook\n",
    "from IPython.display import Image\n",
    "\n",
    "display(Image( 'https://i.redd.it/45n4mhusa8l41.jpg', width = 300))\n"
   ]
  },
  {
   "cell_type": "code",
   "execution_count": 67,
   "metadata": {},
   "outputs": [
    {
     "ename": "TypeError",
     "evalue": "string indices must be integers, not 'str'",
     "output_type": "error",
     "traceback": [
      "\u001b[1;31m---------------------------------------------------------------------------\u001b[0m",
      "\u001b[1;31mTypeError\u001b[0m                                 Traceback (most recent call last)",
      "Cell \u001b[1;32mIn[67], line 3\u001b[0m\n\u001b[0;32m      1\u001b[0m \u001b[38;5;66;03m# recreate your pokemon class here\u001b[39;00m\n\u001b[0;32m      2\u001b[0m \u001b[38;5;28;01mimport\u001b[39;00m \u001b[38;5;21;01mrequests\u001b[39;00m\n\u001b[1;32m----> 3\u001b[0m \u001b[38;5;28;43;01mclass\u001b[39;49;00m\u001b[43m \u001b[49m\u001b[38;5;21;43;01mPokemon\u001b[39;49;00m\u001b[43m:\u001b[49m\n\u001b[0;32m      4\u001b[0m \u001b[43m    \u001b[49m\u001b[38;5;28;43;01mdef\u001b[39;49;00m\u001b[43m \u001b[49m\u001b[38;5;21;43m__init__\u001b[39;49m\u001b[43m(\u001b[49m\u001b[38;5;28;43mself\u001b[39;49m\u001b[43m,\u001b[49m\u001b[43m \u001b[49m\u001b[43mname\u001b[49m\u001b[43m)\u001b[49m\u001b[43m:\u001b[49m\n\u001b[0;32m      5\u001b[0m \u001b[43m        \u001b[49m\u001b[38;5;28;43mself\u001b[39;49m\u001b[38;5;241;43m.\u001b[39;49m\u001b[43mname\u001b[49m\u001b[43m \u001b[49m\u001b[38;5;241;43m=\u001b[39;49m\u001b[43m \u001b[49m\u001b[43mname\u001b[49m\n",
      "Cell \u001b[1;32mIn[67], line 21\u001b[0m, in \u001b[0;36mPokemon\u001b[1;34m()\u001b[0m\n\u001b[0;32m     17\u001b[0m     \u001b[38;5;28;01melse\u001b[39;00m:\n\u001b[0;32m     18\u001b[0m         \u001b[38;5;28mprint\u001b[39m(\u001b[38;5;124mf\u001b[39m\u001b[38;5;124m\"\u001b[39m\u001b[38;5;124mPlease check pokemon spelling and try again: \u001b[39m\u001b[38;5;132;01m{\u001b[39;00mr\u001b[38;5;241m.\u001b[39mstatus_code\u001b[38;5;132;01m}\u001b[39;00m\u001b[38;5;124m\"\u001b[39m)\n\u001b[1;32m---> 21\u001b[0m \u001b[38;5;28mself\u001b[39m\u001b[38;5;241m.\u001b[39mname \u001b[38;5;241m=\u001b[39m \u001b[43mpokemon\u001b[49m\u001b[43m[\u001b[49m\u001b[38;5;124;43m\"\u001b[39;49m\u001b[38;5;124;43mname\u001b[39;49m\u001b[38;5;124;43m\"\u001b[39;49m\u001b[43m]\u001b[49m\n\u001b[0;32m     22\u001b[0m \u001b[38;5;28mself\u001b[39m\u001b[38;5;241m.\u001b[39mtypes \u001b[38;5;241m=\u001b[39m [type_[\u001b[38;5;124m\"\u001b[39m\u001b[38;5;124mtype\u001b[39m\u001b[38;5;124m\"\u001b[39m][\u001b[38;5;124m\"\u001b[39m\u001b[38;5;124mname\u001b[39m\u001b[38;5;124m\"\u001b[39m] \u001b[38;5;28;01mfor\u001b[39;00m type_ \u001b[38;5;129;01min\u001b[39;00m pokemon[\u001b[38;5;124m\"\u001b[39m\u001b[38;5;124mtypes\u001b[39m\u001b[38;5;124m\"\u001b[39m]]\n\u001b[0;32m     23\u001b[0m \u001b[38;5;28mself\u001b[39m\u001b[38;5;241m.\u001b[39mweight \u001b[38;5;241m=\u001b[39m pokemon[\u001b[38;5;124m\"\u001b[39m\u001b[38;5;124mweight\u001b[39m\u001b[38;5;124m\"\u001b[39m]\n",
      "\u001b[1;31mTypeError\u001b[0m: string indices must be integers, not 'str'"
     ]
    }
   ],
   "source": [
    "# recreate your pokemon class here\n",
    "import requests\n",
    "class Pokemon:\n",
    "    def __init__(self, name):\n",
    "        self.name = name\n",
    "        self.types = []\n",
    "        self.abilities = []\n",
    "        self.weight = None\n",
    "        self.poke_api_call()\n",
    "       \n",
    "\n",
    "\n",
    "    def poke_api_call(self):\n",
    "        r = requests.git(f\"https://pokeapi.co/api/v2/pokemon/{self.name.lower()}\")\n",
    "        if r.status_code == 200:\n",
    "            pokemon = r.json()\n",
    "        else:\n",
    "            print(f\"Please check pokemon spelling and try again: {r.status_code}\")\n",
    "\n",
    "\n",
    "    self.name = pokemon[\"name\"]\n",
    "    self.types = [type_[\"type\"][\"name\"] for type_ in pokemon[\"types\"]]\n",
    "    self.weight = pokemon[\"weight\"]\n",
    "    self.abilities = [pokebility[\"ability\"][\"name\"] for pokebility in pokemon[\"abilities\"]]\n",
    "    print(f\"{self.name}'s data has been updated\")\n",
    "\n",
    "    def __repr__(self): #string representation of our object, if not provided we get the objects location in memory instead\n",
    "        return f\"You caught a {self.name}\"\n",
    "        \n",
    "    "
   ]
  },
  {
   "cell_type": "markdown",
   "metadata": {},
   "source": [
    "## Exercise 2:"
   ]
  },
  {
   "cell_type": "markdown",
   "metadata": {},
   "source": [
    "### Create a Method that evolves your Pokemon\n",
    "If your pokemon can't evolve any further print a message that says \"\\<name of pokemon> can't evolve.\""
   ]
  },
  {
   "cell_type": "markdown",
   "metadata": {},
   "source": [
    "Now let's evolve a few"
   ]
  },
  {
   "cell_type": "code",
   "execution_count": null,
   "metadata": {
    "scrolled": true
   },
   "outputs": [],
   "source": [
    "import requests\n",
    "# recreate your pokemon class here\n"
   ]
  },
  {
   "cell_type": "code",
   "execution_count": 6,
   "metadata": {},
   "outputs": [
    {
     "name": "stderr",
     "output_type": "stream",
     "text": [
      "<>:25: SyntaxWarning: list indices must be integers or slices, not str; perhaps you missed a comma?\n",
      "<>:25: SyntaxWarning: list indices must be integers or slices, not str; perhaps you missed a comma?\n",
      "C:\\Users\\Jei'Avonni\\AppData\\Local\\Temp\\ipykernel_3156\\1520433904.py:25: SyntaxWarning: list indices must be integers or slices, not str; perhaps you missed a comma?\n",
      "  evolution_name = ['species']['name']\n"
     ]
    }
   ],
   "source": [
    "## Evolver class should inherit pokemon class\n",
    "from time import sleep\n",
    "\n",
    "class Evolver(Pokemon):\n",
    "    def __init__(self, name):\n",
    "        super().__init__(name)\n",
    "\n",
    "    def evolve(self):\n",
    "        # api call to pokemon species endpoint\n",
    "        r = requests.get(f\"https://pokeapi.co/api/v2/pokemon-species/charmander/{self.name.lower()}\")\n",
    "        if r.status_code == 200:\n",
    "            pokemon_species = r.json\n",
    "        else:\n",
    "            print(f\"Ran into an issues, please check you pokemon's name: {r.status_code}\")\n",
    "            return\n",
    "        r = requests.get(pokemon_species['evolution_chain']['url'])\n",
    "        if r.status == 200:\n",
    "            ev_chain = r.jason()\n",
    "            ev_chain = ev_chain['chain']\n",
    "        else:\n",
    "            print(f\"Ran into an issues, please check you pokemon's name: {r.status_code}\")\n",
    "\n",
    "        base_name = ev_chain['species']['name']\n",
    "        evolution = ev_chain['evolves_to'][0]\n",
    "        evolution_name = ['species']['name']\n",
    "\n",
    "        #Evolution 1 \n",
    "        if base_name == self.name:\n",
    "            pass\n",
    "        #Evolution 2\n",
    "        elif evolution_name == self.name:\n",
    "            evoltuion_name = evolution['evolves_to'][0]['species']['name']\n"
   ]
  },
  {
   "cell_type": "markdown",
   "metadata": {},
   "source": [
    "#  Final Exercise: <br> <br>Create a Move_Tutor Class that in herits from the Pokemon parent class.\n",
    "\n",
    "<p>This class should have a list attribute (move_list) that holds pokemon moves which should be populated with an api call to the PokeApi moves section  (just like we did with abilities and types in the Pokemon class example). Finally create a class method that teaches your pokemon up to 4 moves. This method should take in a user input to what move they would like to teach and do a membership inside the move_list. If the move exists inside the move_list the pokemon can learn that move and append to the final taught_moves list. </p> \n",
    "\n"
   ]
  },
  {
   "cell_type": "code",
   "execution_count": null,
   "metadata": {},
   "outputs": [],
   "source": [
    "class Move_Tutor(Pokemon):\n",
    "    def __init__(self):\n",
    "        self.move_list = []\n",
    "        self.taught_moves = []\n",
    "        \n",
    "    def teach_move(self):\n",
    "        pass"
   ]
  },
  {
   "cell_type": "code",
   "execution_count": 32,
   "metadata": {},
   "outputs": [],
   "source": [
    "import requests\n",
    "\n",
    "# class Pokemon:\n",
    "#     def __init__(self, name):\n",
    "#         self.name = name\n",
    "#         self.tought_moves = []\n",
    "\n",
    "class Move_Tutor(Pokemon):\n",
    "    def __init__(self, name):\n",
    "        self.move_list = []\n",
    "        self.taught_moves = []\n",
    "        super().__init__(name)\n",
    "\n",
    "    \n",
    "    def populate_move_list(self):\n",
    "        \n",
    "        response = requests.get('https://pokeapi.co/api/v2/move/')\n",
    "        if response.status_code == 200:\n",
    "            moves_data = response.json()\n",
    "            self.move_list = [move['name'] for move in moves_data['results']]\n",
    "            print (self.move_list)\n",
    "        else:\n",
    "            print(\"Failed to fetch moves from the PokeAPI\")\n",
    "\n",
    "    def teach_moves(self):\n",
    "        # Ensure move_list is populated\n",
    "        if not self.move_list:\n",
    "            self.populate_move_list()\n",
    "\n",
    "        # Teach up to 4 moves\n",
    "        for _ in range(4):\n",
    "            move_to_teach = input(\"Enter the move you want to teach (or 'stop' to stop): \").lower()\n",
    "\n",
    "            if move_to_teach == 'stop':\n",
    "                break\n",
    "\n",
    "            if move_to_teach in self.move_list:\n",
    "                print(f\"{self.name} has learned {move_to_teach}!\")\n",
    "                self.taught_moves.append(move_to_teach)\n",
    "            else:\n",
    "                print(f\"Sorry, {move_to_teach} is not a valid move.\")\n",
    "\n",
    "\n",
    "# Create a Pokemon\n",
    "my_pokemon = Move_Tutor(\"pikachu\")\n",
    "\n",
    "# # Create a Move_Tutor and teach moves to the Pokemon\n",
    "# Move_Tutor.teach_moves(my_pokemon)\n",
    "\n",
    "# # Print the moves the Pokemon has learned\n",
    "# print(f\"{my_pokemon.name} has learned the following moves: {my_pokemon.tought_moves}\")\n"
   ]
  },
  {
   "cell_type": "code",
   "execution_count": 16,
   "metadata": {
    "scrolled": true
   },
   "outputs": [
    {
     "name": "stdout",
     "output_type": "stream",
     "text": [
      "0\n",
      "1\n",
      "2\n",
      "3\n",
      "4\n"
     ]
    }
   ],
   "source": [
    "for i in range(5):\n",
    "    print(i)\n",
    "\n",
    "%load_ext nb_black"
   ]
  },
  {
   "cell_type": "code",
   "execution_count": null,
   "metadata": {},
   "outputs": [
    {
     "name": "stdout",
     "output_type": "stream",
     "text": [
      "['pound', 'karate-chop', 'double-slap', 'comet-punch', 'mega-punch', 'pay-day', 'fire-punch', 'ice-punch', 'thunder-punch', 'scratch', 'vice-grip', 'guillotine', 'razor-wind', 'swords-dance', 'cut', 'gust', 'wing-attack', 'whirlwind', 'fly', 'bind']\n"
     ]
    }
   ],
   "source": [
    "my_pokemon.teach_moves()"
   ]
  },
  {
   "cell_type": "code",
   "execution_count": null,
   "metadata": {},
   "outputs": [],
   "source": [
    "my_pokemon.show_moves()"
   ]
  }
 ],
 "metadata": {
  "kernelspec": {
   "display_name": "Python 3 (ipykernel)",
   "language": "python",
   "name": "python3"
  },
  "language_info": {
   "codemirror_mode": {
    "name": "ipython",
    "version": 3
   },
   "file_extension": ".py",
   "mimetype": "text/x-python",
   "name": "python",
   "nbconvert_exporter": "python",
   "pygments_lexer": "ipython3",
   "version": "3.12.1"
  }
 },
 "nbformat": 4,
 "nbformat_minor": 4
}
